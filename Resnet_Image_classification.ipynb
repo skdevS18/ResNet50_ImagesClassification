{
  "nbformat": 4,
  "nbformat_minor": 0,
  "metadata": {
    "colab": {
      "provenance": [],
      "gpuType": "T4",
      "authorship_tag": "ABX9TyPpe60f6bFGGRJ0mMS3oe0A",
      "include_colab_link": true
    },
    "kernelspec": {
      "name": "python3",
      "display_name": "Python 3"
    },
    "language_info": {
      "name": "python"
    },
    "accelerator": "GPU"
  },
  "cells": [
    {
      "cell_type": "markdown",
      "metadata": {
        "id": "view-in-github",
        "colab_type": "text"
      },
      "source": [
        "<a href=\"https://colab.research.google.com/github/skdevS18/ResNet50_ImagesClassification/blob/main/Resnet_Image_classification.ipynb\" target=\"_parent\"><img src=\"https://colab.research.google.com/assets/colab-badge.svg\" alt=\"Open In Colab\"/></a>"
      ]
    },
    {
      "cell_type": "code",
      "execution_count": null,
      "metadata": {
        "id": "bgWZmwVo6tu-"
      },
      "outputs": [],
      "source": [
        "!pip install streamlit --upgrade"
      ]
    },
    {
      "cell_type": "code",
      "source": [
        "import streamlit\n",
        "\n",
        "print(\"Streamlit version:\", streamlit.__version__)"
      ],
      "metadata": {
        "colab": {
          "base_uri": "https://localhost:8080/"
        },
        "id": "pZWrceix8uSb",
        "outputId": "c6351910-dee3-4288-c3a0-4230e056e7c7"
      },
      "execution_count": null,
      "outputs": [
        {
          "output_type": "stream",
          "name": "stdout",
          "text": [
            "Streamlit version: 1.30.0\n"
          ]
        }
      ]
    },
    {
      "cell_type": "code",
      "source": [],
      "metadata": {
        "id": "s-OkwfeN9C-X"
      },
      "execution_count": null,
      "outputs": []
    },
    {
      "cell_type": "code",
      "source": [
        "%%writefile app.py\n",
        "import streamlit as st\n",
        "from tensorflow.keras.applications.resnet50 import ResNet50, preprocess_input, decode_predictions\n",
        "from tensorflow.keras.preprocessing import image\n",
        "import numpy as np\n",
        "from PIL import Image\n",
        "import os\n",
        "import urllib.parse\n",
        "\n",
        "# Load the ResNet50 model pre-trained on ImageNet data\n",
        "model = ResNet50(weights='imagenet')\n",
        "\n",
        "def predict(image_path):\n",
        "    # Load and preprocess the image\n",
        "    img = image.load_img(image_path, target_size=(224, 224))\n",
        "    x = image.img_to_array(img)\n",
        "    x = np.expand_dims(x, axis=0)\n",
        "    x = preprocess_input(x)\n",
        "\n",
        "    # Make predictions\n",
        "    preds = model.predict(x)\n",
        "\n",
        "    # Decode predictions\n",
        "    decoded_predictions = decode_predictions(preds, top=4)[0]\n",
        "\n",
        "    return decoded_predictions\n",
        "\n",
        "def generate_interpretation(predictions):\n",
        "    # You can customize this function based on your preferences\n",
        "    interpretation = f\"This image depicts {predictions[0][1].replace('_', ' ')} with a confidence of {predictions[0][2]:.2%}. \"\n",
        "    interpretation += f\"It may also contain elements related to {predictions[1][1].replace('_', ' ')} and {predictions[2][1].replace('_', ' ')}.\"\n",
        "    return interpretation\n",
        "\n",
        "def google_search_link(query):\n",
        "    encoded_query = urllib.parse.quote(query)\n",
        "    return f\"[Google Search](https://www.google.com/search?q={encoded_query})\"\n",
        "\n",
        "\n",
        "def main():\n",
        "    # Set page title and favicon\n",
        "    st.set_page_config(\n",
        "        page_title=\"Images Classification App\",\n",
        "        page_icon=\"🌸\",\n",
        "        layout=\"wide\",\n",
        "        initial_sidebar_state=\"expanded\",\n",
        "    )\n",
        "\n",
        "    # Set app title\n",
        "    st.title(\"Images Classification App\")\n",
        "\n",
        "    # Sidebar with app description\n",
        "    st.sidebar.markdown(\n",
        "        \"\"\"\n",
        "        This app uses the ResNet50 model to classify uploaded images into categories.\n",
        "        It provides predictions along with probabilities for the top three classes.\n",
        "        \"\"\"\n",
        "    )\n",
        "\n",
        "    # File upload setup\n",
        "    uploaded_file = st.file_uploader(\"Choose an image...\", type=[\"jpg\", \"jpeg\", \"png\", \"webp\"])\n",
        "\n",
        "    if uploaded_file is not None:\n",
        "        # Load the image and resize it to a fixed size\n",
        "        img = Image.open(uploaded_file)\n",
        "        img = img.resize((400, 400))\n",
        "\n",
        "        # Display the uploaded image with a border and centered\n",
        "        st.image(img, caption=\"Uploaded Image.\", use_column_width=False, width=400, clamp=True, output_format=\"JPEG\")\n",
        "\n",
        "        # Make predictions\n",
        "        predictions = predict(uploaded_file)\n",
        "\n",
        "        # Display predicted labels\n",
        "        st.subheader(\"Predictions:\")\n",
        "        for i, (_, label, score) in enumerate(predictions):\n",
        "            st.write(f\"{label.capitalize()}: {score:.2%} {google_search_link(label)}\")\n",
        "\n",
        "        # Automatic interpretation\n",
        "        st.subheader(\"Interpretation:\")\n",
        "        automatic_interpretation = generate_interpretation(predictions)\n",
        "        st.write(automatic_interpretation)\n",
        "\n",
        "        # Download button for the uploaded image\n",
        "        st.download_button(label=\"Download Image\", data=uploaded_file, file_name=\"uploaded_image.jpg\", key=None)\n",
        "\n",
        "        # Checkbox to automatically delete the cached file after processing\n",
        "        delete_cached_file = st.checkbox(\"Automatically delete cached file after processing\")\n",
        "        if delete_cached_file:\n",
        "            st.warning(\"Note: Enabling this option will delete the uploaded image file after processing.\")\n",
        "            st.cache(allow_output_mutation=True, suppress_st_warning=True)(os.remove)(uploaded_file.name)\n",
        "\n",
        "if __name__ == \"__main__\":\n",
        "    main()"
      ],
      "metadata": {
        "colab": {
          "base_uri": "https://localhost:8080/"
        },
        "id": "TvRfmt-T9C7s",
        "outputId": "06b6b4f2-0aae-4e0d-8ce8-2c0055d885c8"
      },
      "execution_count": null,
      "outputs": [
        {
          "output_type": "stream",
          "name": "stdout",
          "text": [
            "Writing app.py\n"
          ]
        }
      ]
    },
    {
      "cell_type": "code",
      "source": [],
      "metadata": {
        "id": "JMHUpev09C2e"
      },
      "execution_count": null,
      "outputs": []
    },
    {
      "cell_type": "code",
      "source": [
        "!wget -q -O - ipv4.icanhazip.com"
      ],
      "metadata": {
        "colab": {
          "base_uri": "https://localhost:8080/"
        },
        "id": "co4hPzO69Cz3",
        "outputId": "84d8e48c-2305-480c-abeb-1d41669f6135"
      },
      "execution_count": null,
      "outputs": [
        {
          "output_type": "stream",
          "name": "stdout",
          "text": [
            "34.145.21.185\n"
          ]
        }
      ]
    },
    {
      "cell_type": "code",
      "source": [
        "! streamlit run app.py & npx localtunnel --port 8501"
      ],
      "metadata": {
        "id": "tZma_Y_w9Cw9"
      },
      "execution_count": null,
      "outputs": []
    },
    {
      "cell_type": "code",
      "source": [],
      "metadata": {
        "id": "fE6TUfwKEsgM"
      },
      "execution_count": null,
      "outputs": []
    }
  ]
}